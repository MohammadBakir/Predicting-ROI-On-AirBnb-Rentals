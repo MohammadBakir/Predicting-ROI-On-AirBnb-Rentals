{
 "cells": [
  {
   "cell_type": "code",
   "execution_count": null,
   "metadata": {},
   "outputs": [],
   "source": [
    "Notes\n",
    "\n",
    "-Initial Transformation:\n",
    "    Log Based 10 and Square Root of the ROI\n",
    "\n",
    "-Secondary Transformation:\n",
    "    Log Based 10 of \n",
    "        Number of Accomodations\n",
    "        data_accom = np.log(airbnb_numeric_only_1_o_3['accommodates'])\n",
    "    \n",
    "        Number of Bathrooms\n",
    "        data_bath = np.log(airbnb_numeric_only_1_o_3['bathrooms']+1)\n",
    "        \n",
    "        \n",
    "    \n",
    "    One Hot Encode\n",
    "        Potentially - Number of Bedrooms\n",
    "        \n",
    "Elastic Net\n",
    "Lambda\n",
    "Residual amd plot\n",
    "Q-Q plot to verify Normal\n"
   ]
  }
 ],
 "metadata": {
  "kernelspec": {
   "display_name": "Python 3",
   "language": "python",
   "name": "python3"
  },
  "language_info": {
   "codemirror_mode": {
    "name": "ipython",
    "version": 3
   },
   "file_extension": ".py",
   "mimetype": "text/x-python",
   "name": "python",
   "nbconvert_exporter": "python",
   "pygments_lexer": "ipython3",
   "version": "3.6.7"
  }
 },
 "nbformat": 4,
 "nbformat_minor": 2
}
