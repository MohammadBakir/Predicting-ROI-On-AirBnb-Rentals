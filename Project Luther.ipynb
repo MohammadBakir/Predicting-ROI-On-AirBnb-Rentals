{
 "cells": [
  {
   "cell_type": "markdown",
   "metadata": {},
   "source": [
    "## Problem Statement\n",
    "#### Compare return on investment for a rental property that is offered on the private market vs on AirBnb\n"
   ]
  },
  {
   "cell_type": "markdown",
   "metadata": {},
   "source": [
    "## US Markets to Explore,\n",
    "* San Francisco \n",
    "* New York\n",
    "* Las Vegas\n",
    "* Lake Tahoe\n",
    "* Miami\n",
    "* Los Angeles\n",
    "\n",
    "### Property Type\n",
    "The property must be an Apartment, House, Condominium, Townhouse, Cottage, Guesthouse, Hostel, Bungalow, Boutique hotel, Bed and breakfast, Hotel, Tiny house, Resort, Villa, Timeshare, Cabin, Castle, Earth house with a minimum of 1 bedroom and maximum of 7 bedrooms\n",
    "\n",
    "### Calculation\n",
    "After selecting the properties,calculate the rental rates of different areas based on the features to bedroom ratio from traditional rentals and Airbnb listings.\n",
    "\n",
    "For the Airbnb occupancy rate, we check the number of bookings on a monthly basis, while the Airbnb occupancy rate displayed on the platform is based on the number of bookings that took place in the past 10 months. From there, we are then able to project the Airbnb occupancy rates for other properties based on the property’s rental rate and the property type. Finally, the estimated Airbnb rental income is calculated by multiplying the rental rate by the occupancy rate. "
   ]
  },
  {
   "cell_type": "markdown",
   "metadata": {},
   "source": [
    "Data Obtained from:\n",
    "\n",
    "#### SF, NY\n",
    "Murray Cox, 2018, “Detailed Listings data for San Francisco”, Inside Airbnb, http://insideairbnb.com/get-the-data.html\n",
    "\n",
    "#### Explore the following Datasets\n",
    "\n",
    "* AirBnb\n",
    "* HomeAway\n",
    "* Travelocity\n",
    "* ListHub\n",
    "* Rent Jungle\n",
    "* Hotpads\n",
    "* Zillow"
   ]
  },
  {
   "cell_type": "markdown",
   "metadata": {},
   "source": [
    "## Ideas to Explore\n",
    "\n",
    "### Features:\n",
    "* Investiate Zillow Rental Prices vs Monthyl AirBnb Prices, example compare 1 bedrooms in a specific area\n",
    "* Seasonal(Destination Type)\n",
    "* Weather Patters(Climate)\n",
    "* Walkability Index\n",
    "* From Neighborhood look at zillow average home prices"
   ]
  },
  {
   "cell_type": "code",
   "execution_count": 1,
   "metadata": {},
   "outputs": [],
   "source": [
    "#Import libraries\n",
    "import pandas as pd\n",
    "import numpy as np\n",
    "\n",
    "#Set display options\n",
    "pd.set_option('display.max_columns', None)"
   ]
  },
  {
   "cell_type": "code",
   "execution_count": 2,
   "metadata": {},
   "outputs": [],
   "source": [
    "\n",
    "# Create initial DataFrame\n",
    "df_sf = pd.DataFrame()\n",
    "sf_df = pd.read_csv('.\\\\Data\\\\San Francisco Data\\\\listings.csv.gz',\n",
    "                   error_bad_lines=False)\n",
    "\n",
    "sf_df = df_sf.append(sf_df)\n",
    "\n",
    "#df_ny = pd.DataFrame()\n",
    "#ny_df = pd.read_csv('.\\\\Data\\\\New York\\\\listings.csv.gz',\n",
    "                   #error_bad_lines=False)\n",
    "#ny_df = df_ny.append(ny_df)\n",
    "\n"
   ]
  },
  {
   "cell_type": "code",
   "execution_count": 3,
   "metadata": {},
   "outputs": [],
   "source": [
    "#Function to preprocess data\n",
    "def preprocess(df):\n",
    "    \n",
    "    #Standardize column names\n",
    "    df.columns = df.columns.str.strip()\n",
    "    \n",
    "    #Keep columns of interest\n",
    "    df = df[['bathrooms','bedrooms','accommodates','price','weekly_price','monthly_price','cleaning_fee',\\\n",
    "             'property_type','zipcode','neighbourhood_cleansed','transit','access','latitude','longitude',\\\n",
    "             'amenities','square_feet']]\n",
    "                          \n",
    "    #Update column names\n",
    "    df.rename(columns={'neighbourhood_cleansed': 'neighbourhood','price': 'nightly_price' }, inplace=True)\n",
    "    \n",
    "    #Update property types\n",
    "    #Modify listing names that might be considered a condo\n",
    "    condo_list=['Guesthouse','Bungalow','Tiny house','Cottage']\n",
    "    df = update_property_value('property_type',condo_list,'Condominium', df)\n",
    "    \n",
    "    #Modify listing names that might be considered an apartment\n",
    "    apartment_list = ['Serviced apartment','Aparthotel','Timeshare']\n",
    "    df = update_property_value('property_type',apartment_list,'Apartment', df)\n",
    "    \n",
    "    #Modify listing names that might be considered an apartment\n",
    "    house_list = ['Hostel','Boutique hotel','Bed and breakfast','Villa','Cabin','Earth house']\n",
    "    df = update_property_value('property_type',house_list,'House', df)\n",
    "    \n",
    "    #Keep properties that are an Apartment Townhouse Condominium or House\n",
    "    df = df.loc[(df['property_type'] == 'Apartment') | (df['property_type'] == 'Townhouse') | (df['property_type'] == 'Condominium')\\\n",
    "                | (df['property_type'] == 'House')]\n",
    "    \n",
    "    #Update Price column name to nightly price\n",
    "    df.rename(columns={'neighbourhood_cleansed': 'neighbourhood','price': 'nightly_price' }, inplace=True)\n",
    "    \n",
    "    #Drop bedroom data with non values and convert to integer type\n",
    "    df = df[np.isfinite(df['bedrooms'])]\n",
    "    df['bedrooms']= df['bedrooms'].astype(int)\n",
    "    \n",
    "    #Drop bedroom data with non values and convert to integer type\n",
    "    df = df[np.isfinite(df['bathrooms'])]\n",
    "    \n",
    "    #Drop rows with 0 bedrooms or bedrooms less than 7 bedrooms\n",
    "    df = df[(df.bedrooms > 0) & (df.bedrooms <=7)]\n",
    "  \n",
    "    return df\n",
    "\n",
    "def update_property_value(column_name,listing_list, updated_listing_name,df):\n",
    "    for listing in listing_list:\n",
    "        df[column_name].replace(listing, updated_listing_name, inplace=True)\n",
    "    return df"
   ]
  },
  {
   "cell_type": "code",
   "execution_count": 4,
   "metadata": {},
   "outputs": [
    {
     "name": "stderr",
     "output_type": "stream",
     "text": [
      "C:\\Users\\moham\\Anaconda3\\lib\\site-packages\\pandas\\core\\frame.py:2746: SettingWithCopyWarning: \n",
      "A value is trying to be set on a copy of a slice from a DataFrame\n",
      "\n",
      "See the caveats in the documentation: http://pandas.pydata.org/pandas-docs/stable/indexing.html#indexing-view-versus-copy\n",
      "  **kwargs)\n",
      "C:\\Users\\moham\\Anaconda3\\lib\\site-packages\\pandas\\core\\generic.py:3924: SettingWithCopyWarning: \n",
      "A value is trying to be set on a copy of a slice from a DataFrame\n",
      "\n",
      "See the caveats in the documentation: http://pandas.pydata.org/pandas-docs/stable/indexing.html#indexing-view-versus-copy\n",
      "  self._update_inplace(new_data)\n"
     ]
    }
   ],
   "source": [
    "df_sf = preprocess(sf_df)"
   ]
  },
  {
   "cell_type": "code",
   "execution_count": 5,
   "metadata": {},
   "outputs": [],
   "source": [
    "#Determine number of listings per property_type\n",
    "def number_of_listing(df):\n",
    "    dicts = {}\n",
    "    keys = df.property_type.unique()\n",
    "    for i in keys:\n",
    "        dicts[i] = len(df[df.property_type==str(i)])\n",
    "    \n",
    "    return dicts\n",
    "\n",
    "sf_listing_dict = number_of_listing(df_sf)"
   ]
  },
  {
   "cell_type": "code",
   "execution_count": 6,
   "metadata": {},
   "outputs": [
    {
     "name": "stdout",
     "output_type": "stream",
     "text": [
      "{'Apartment': 2690, 'House': 2162, 'Condominium': 783, 'Townhouse': 138}\n"
     ]
    }
   ],
   "source": [
    "print(sf_listing_dict)"
   ]
  },
  {
   "cell_type": "markdown",
   "metadata": {},
   "source": [
    "# TODO List\n",
    "* Average square footage of the neighborhoods around sf based on number of bedrooms and bathrooms\n",
    "* Average price of a property with the above dimensions-Check\n",
    "* Average monthly price of a property with the above dimensions-Check\n",
    "* Walkability Index of Data\n",
    "* Climate Patterns\n",
    "* Determine number of days location was booked\n",
    "* Update the following neighborhood names\n",
    "    ##### Ocean View Terrace\n",
    "    ##### Marina District\n",
    "    ##### Presidio Heights\n",
    "    ##### Civic Center / Van Ness\n",
    "    ##### Castro\n",
    "    ##### Upper Market"
   ]
  },
  {
   "cell_type": "markdown",
   "metadata": {},
   "source": [
    "# Convert property type to reduce types of homes\n",
    "\n",
    "### Condominum\n",
    "* Guesthouse\n",
    "* Bungalow\n",
    "* Tiny House\n",
    "* Cottage\n",
    "\n",
    "### Apartment\n",
    "* Serviced Apartment \n",
    "* Aparthotel\n",
    "* Timeshare\n",
    "\n",
    "### House\n",
    "* Hostel\n",
    "* Boutique Hotel \n",
    "* Bed and Breakfast\n",
    "* Villa\n",
    "* Cabin \n",
    "* Earth house\n",
    "\n",
    "### Drop\n",
    "* Hotel\n",
    "* Resort\n",
    "* Castle\n"
   ]
  },
  {
   "cell_type": "code",
   "execution_count": null,
   "metadata": {},
   "outputs": [],
   "source": []
  }
 ],
 "metadata": {
  "kernelspec": {
   "display_name": "Python 3",
   "language": "python",
   "name": "python3"
  },
  "language_info": {
   "codemirror_mode": {
    "name": "ipython",
    "version": 3
   },
   "file_extension": ".py",
   "mimetype": "text/x-python",
   "name": "python",
   "nbconvert_exporter": "python",
   "pygments_lexer": "ipython3",
   "version": "3.6.7"
  }
 },
 "nbformat": 4,
 "nbformat_minor": 2
}
